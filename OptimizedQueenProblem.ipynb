{
  "nbformat": 4,
  "nbformat_minor": 0,
  "metadata": {
    "colab": {
      "name": "OptimizedQueenProblem.ipynb",
      "provenance": [],
      "collapsed_sections": []
    },
    "kernelspec": {
      "name": "python3",
      "display_name": "Python 3"
    },
    "language_info": {
      "name": "python"
    }
  },
  "cells": [
    {
      "cell_type": "code",
      "execution_count": 1,
      "metadata": {
        "id": "QchMuGlhomBW"
      },
      "outputs": [],
      "source": [
        "import pandas as pd\n",
        "import numpy as np\n",
        "import matplotlib.pyplot as plt\n",
        "import random\n",
        "import math\n",
        "import sys"
      ]
    },
    {
      "cell_type": "markdown",
      "source": [
        "#N Queens algorithm\n",
        "\n",
        "The n-queens problem is a problem based on xadrez that the player needs to place the queens in such a way that no queens are being attacked by other ones. Therefore, all queen's rows, columns, and diagonals should not have any queen left."
      ],
      "metadata": {
        "id": "Qbag_ek26tzg"
      }
    },
    {
      "cell_type": "code",
      "source": [
        "\n",
        "class n_queens:\n",
        "\n",
        "  def __init__(self,n,random_condition=True):\n",
        "\n",
        "    self.board  = [random.randint(0,n-1) for nothing in range(n)] if random_condition else [np.NaN for nothing in range(n)]\n",
        "    self.n = n\n",
        "  \n",
        "  def detect_collison(self):\n",
        "\n",
        "    for i in range(self.n-1):\n",
        "\n",
        "      for j in range(i+1,self.n):\n",
        "\n",
        "        if (i - self.board[i] == j - self.board[j]) or (i + self.board[i] == j + self.board[j]) or self.board[i] == self.board[j]:\n",
        "          return True\n",
        "    return False\n",
        "\n",
        "  def account_collison(self,board=None):\n",
        "\n",
        "    count = 0\n",
        "\n",
        "    if board is None:\n",
        "      board = self.board\n",
        "\n",
        "    for i in range(self.n-1):\n",
        "      for j in range(i+1,self.n):\n",
        "        if (board[j] == board[i]):\n",
        "          count += 1\n",
        "\n",
        "    for i in range(self.n-1):\n",
        "      for j in range(i+1,self.n):\n",
        "        if  (i - board[i] == j - board[j]):\n",
        "          count+=1      \n",
        "  \n",
        "    for i in range(self.n-1):\n",
        "      for j in range(i+1,self.n):\n",
        "        if (i + board[i] == j + board[j]):\n",
        "          count +=1\n",
        "    \n",
        "    return count\n",
        "  \n",
        "  def random_permutation(self,tries_number,print_dash=False):\n",
        "\n",
        "    self.board = np.random.permutation(self.n)\n",
        "    new_board = self.board.copy()\n",
        "    best_attacks = self.account_collison()\n",
        "\n",
        "    all_attack_numbers = []\n",
        "    all_attack_numbers.append(best_attacks)\n",
        "    \n",
        "    iteration = 0\n",
        "\n",
        "    for simulation in range(tries_number):\n",
        "\n",
        "      new_board = np.random.permutation(self.board)\n",
        "      current_attacks = self.account_collison(new_board)\n",
        "\n",
        "      if current_attacks < best_attacks:\n",
        "\n",
        "        best_attacks = current_attacks\n",
        "        self.board = new_board\n",
        "        all_attack_numbers.append(best_attacks)\n",
        "      \n",
        "      if best_attacks == 0:\n",
        "        break\n",
        "      iteration+=1\n",
        "\n",
        "    return [best_attacks,iteration,all_attack_numbers]\n",
        "\n",
        "  def swap_2(self,tries_number,print_dash=False):\n",
        "\n",
        "    self.board = [index for index in range(self.n)]\n",
        "    best_attacks = self.account_collison()\n",
        "    iteration = 0\n",
        "    all_attack_numbers = []\n",
        "    all_attack_numbers.append(best_attacks)\n",
        "\n",
        "    for simulation in range(tries_number):\n",
        "      \n",
        "      new_board = self.board.copy()\n",
        "      \n",
        "      if print_dash:\n",
        "        self.print_board()\n",
        "\n",
        "      a = random.randint(0,self.n-1)\n",
        "      b = random.randint(0,self.n-1)\n",
        "      \n",
        "      aux = new_board[a]\n",
        "      new_board[a] = new_board[b]\n",
        "      new_board[b] = aux\n",
        "      current_attacks = self.account_collison(new_board)\n",
        "\n",
        "      if current_attacks < best_attacks:\n",
        "\n",
        "        best_attacks = current_attacks\n",
        "        self.board = new_board\n",
        "        all_attack_numbers.append(best_attacks)\n",
        "      \n",
        "      if best_attacks == 0:\n",
        "        break\n",
        "      \n",
        "      iteration+=1\n",
        "\n",
        "    return [best_attacks,iteration,all_attack_numbers]\n",
        "\n",
        "\n",
        "  def brute_force(self,pivot=0):    \n",
        "\n",
        "    if math.isnan(self.board[pivot]):\n",
        "      self.board[pivot] = -1\n",
        "    \n",
        "    if self.board[pivot] is self.n-1:\n",
        "      self.board[pivot] = np.NaN\n",
        "      pivot-=1\n",
        "      pivot = self.brute_force(pivot)\n",
        "\n",
        "    if pivot >= self.n:\n",
        "     return pivot\n",
        "\n",
        "    if self.board[pivot]  < self.n-1:\n",
        "      self.board[pivot] += 1\n",
        "\n",
        "    if self.detect_collison():\n",
        "\n",
        "      if self.board[pivot] is self.n-1:\n",
        "        self.board[pivot] = np.NaN\n",
        "        pivot-=1\n",
        "        pivot = self.brute_force(pivot)\n",
        "      else:  \n",
        "        pivot = self.brute_force(pivot)\n",
        "    else:\n",
        "      pivot+=1\n",
        "      if pivot >= self.n:\n",
        "        return pivot\n",
        "      pivot = self.brute_force(pivot)\n",
        "\n",
        "    return pivot\n",
        "\n",
        "  def set_board(self,board):\n",
        "\n",
        "    self.board = board\n",
        "    self.n = len(board)\n",
        "  \n",
        "  def print_board(self):\n",
        "  \n",
        "    board_and_queens = np.zeros((self.n,self.n))\n",
        "    \n",
        "    for i in range(self.n):\n",
        "      try:\n",
        "        if self.board[i] is not np.NaN:\n",
        "          board_and_queens[self.board[i]][i] = 1\n",
        "      except IndexError as error:\n",
        "        print(f'Posição escolhida para dama {i} fora dos limites do tabuleiro')\n",
        "        print(error)\n",
        "    \n",
        "    print(board_and_queens)\n",
        "\n"
      ],
      "metadata": {
        "id": "Nfp4qjTgo7xV"
      },
      "execution_count": 80,
      "outputs": []
    },
    {
      "cell_type": "markdown",
      "source": [
        "#Permutation"
      ],
      "metadata": {
        "id": "3lanmFKIM2F_"
      }
    },
    {
      "cell_type": "markdown",
      "source": [
        "Permute the entire array to attempt to generate a better solution in terms of attack numbers. "
      ],
      "metadata": {
        "id": "u7-VQVNkEAqQ"
      }
    },
    {
      "cell_type": "code",
      "source": [
        "dash_n_queens = n_queens(10,random_condition=False)\n",
        "[the_best,iterations,improved_results] = dash_n_queens.random_permutation(40000,False)\n",
        "dash_n_queens.print_board()\n",
        "print(the_best)\n",
        "plt.plot(improved_results)\n",
        "plt.show()"
      ],
      "metadata": {
        "id": "YlcQl2UIM2NO",
        "colab": {
          "base_uri": "https://localhost:8080/",
          "height": 456
        },
        "outputId": "42b6f4c4-1e0f-441b-bbf3-23cc53655161"
      },
      "execution_count": 82,
      "outputs": [
        {
          "output_type": "stream",
          "name": "stdout",
          "text": [
            "[[0. 0. 0. 1. 0. 0. 0. 0. 0. 0.]\n",
            " [0. 0. 0. 0. 0. 0. 0. 0. 1. 0.]\n",
            " [0. 0. 0. 0. 1. 0. 0. 0. 0. 0.]\n",
            " [0. 1. 0. 0. 0. 0. 0. 0. 0. 0.]\n",
            " [0. 0. 0. 0. 0. 0. 0. 0. 0. 1.]\n",
            " [1. 0. 0. 0. 0. 0. 0. 0. 0. 0.]\n",
            " [0. 0. 0. 0. 0. 1. 0. 0. 0. 0.]\n",
            " [0. 0. 0. 0. 0. 0. 0. 1. 0. 0.]\n",
            " [0. 0. 1. 0. 0. 0. 0. 0. 0. 0.]\n",
            " [0. 0. 0. 0. 0. 0. 1. 0. 0. 0.]]\n",
            "0\n"
          ]
        },
        {
          "output_type": "display_data",
          "data": {
            "text/plain": [
              "<Figure size 432x288 with 1 Axes>"
            ],
            "image/png": "[encoded data removed]"
          },
          "metadata": {
            "needs_background": "light"
          }
        }
      ]
    },
    {
      "cell_type": "markdown",
      "source": [
        "#Two Swap "
      ],
      "metadata": {
        "id": "Xpm7crgyfwgx"
      }
    },
    {
      "cell_type": "markdown",
      "source": [
        "Swap 2 elements of the solution array based on 2 generated random numbers ranging from 0 to array length-1 that represent the positions in the array to be swapped."
      ],
      "metadata": {
        "id": "QENnfSeyFL_2"
      }
    },
    {
      "cell_type": "code",
      "source": [
        "dash_n_queens = n_queens(10,random_condition=False)\n",
        "[the_best,iterations,improved_results] = dash_n_queens.swap_2(4000,False)\n",
        "dash_n_queens.print_board()\n",
        "print(the_best)\n",
        "plt.plot(improved_results)\n",
        "plt.show()"
      ],
      "metadata": {
        "id": "xonsSiUofv-i",
        "colab": {
          "base_uri": "https://localhost:8080/",
          "height": 456
        },
        "outputId": "fac39dc3-6b3c-4bb4-979f-3d85503a54ac"
      },
      "execution_count": 83,
      "outputs": [
        {
          "output_type": "stream",
          "name": "stdout",
          "text": [
            "[[0. 0. 0. 0. 1. 0. 0. 0. 0. 0.]\n",
            " [0. 0. 0. 0. 0. 0. 0. 0. 1. 0.]\n",
            " [1. 0. 0. 0. 0. 0. 0. 0. 0. 0.]\n",
            " [0. 0. 1. 0. 0. 0. 0. 0. 0. 0.]\n",
            " [0. 0. 0. 0. 0. 0. 0. 1. 0. 0.]\n",
            " [0. 0. 0. 0. 0. 1. 0. 0. 0. 0.]\n",
            " [0. 1. 0. 0. 0. 0. 0. 0. 0. 0.]\n",
            " [0. 0. 0. 1. 0. 0. 0. 0. 0. 0.]\n",
            " [0. 0. 0. 0. 0. 0. 0. 0. 0. 1.]\n",
            " [0. 0. 0. 0. 0. 0. 1. 0. 0. 0.]]\n",
            "1\n"
          ]
        },
        {
          "output_type": "display_data",
          "data": {
            "text/plain": [
              "<Figure size 432x288 with 1 Axes>"
            ],
            "image/png": "[encoded data removed]"
          },
          "metadata": {
            "needs_background": "light"
          }
        }
      ]
    },
    {
      "cell_type": "markdown",
      "source": [
        "#Brute Force"
      ],
      "metadata": {
        "id": "r8jHleS-JX5u"
      }
    },
    {
      "cell_type": "code",
      "source": [
        "dash_n_queens = n_queens(4,random_condition=False)\n",
        "dash_n_queens.brute_force()\n",
        "dash_n_queens.print_board()"
      ],
      "metadata": {
        "colab": {
          "base_uri": "https://localhost:8080/"
        },
        "id": "RVYWcETEJWNw",
        "outputId": "196d228d-acd3-4e3c-8e55-3492da7a29c1"
      },
      "execution_count": null,
      "outputs": [
        {
          "output_type": "stream",
          "name": "stdout",
          "text": [
            "[[0. 0. 1. 0.]\n",
            " [1. 0. 0. 0.]\n",
            " [0. 0. 0. 1.]\n",
            " [0. 1. 0. 0.]]\n"
          ]
        }
      ]
    },
    {
      "cell_type": "markdown",
      "source": [
        "#Metaheuristics Algorithms\n"
      ],
      "metadata": {
        "id": "jYTlqzPw6-22"
      }
    },
    {
      "cell_type": "code",
      "source": [
        "class Metaheuristics:\n",
        "\n",
        "  def __init__(self,simulation_number,method,max_iteration,board_queens,print_board=False):\n",
        "\n",
        "    self.simulation_number = simulation_number\n",
        "    self.method = method\n",
        "    self.solutions = []\n",
        "    self.best_result = float('inf')\n",
        "    self.max_iteration = max_iteration\n",
        "    self.print_board = print_board\n",
        "    self.board_queens = board_queens\n",
        "  \n",
        "  def RMS(self):\n",
        "\n",
        "    [old_result,count,all_simulation_results] = [0,0,[]]\n",
        "    \n",
        "    print('Inicializando simulação!!!!!\\n')\n",
        "    \n",
        "    for simulation_index in range(self.simulation_number):\n",
        "\n",
        "      old_result = self.method(self.max_iteration,self.print_board)[0] \n",
        "      \n",
        "      #print(f\"\\nSimulação {simulation_index+1}: {old_result}\\n\")\n",
        "      all_simulation_results.append(old_result)\n",
        "\n",
        "      if old_result < self.best_result:\n",
        "        self.best_result = old_result\n",
        "        if self.best_result == 0:\n",
        "          break\n",
        "      count+=1\n",
        "\n",
        "    return [self.best_result,count,self.board_queens.board,all_simulation_results]\n",
        "\n",
        "board_size = 6\n",
        "simulation_number = 5\n",
        "max_iteration = 20\n",
        "\n",
        "board_n_queens = n_queens(board_size,random_condition=False)\n",
        "RMS_results = Metaheuristics(simulation_number,board_n_queens.random_permutation,max_iteration,board_n_queens,True).RMS()\n",
        "display(RMS_results)\n",
        "board_n_queens.print_board()"
      ],
      "metadata": {
        "colab": {
          "base_uri": "https://localhost:8080/",
          "height": 173
        },
        "id": "4KPBYisz66YO",
        "outputId": "a82452de-8fe6-4127-86ba-a10ba71ba231"
      },
      "execution_count": 69,
      "outputs": [
        {
          "output_type": "stream",
          "name": "stdout",
          "text": [
            "Inicializando simulação!!!!!\n",
            "\n"
          ]
        },
        {
          "output_type": "display_data",
          "data": {
            "text/plain": [
              "[0, 3, array([4, 2, 0, 5, 3, 1]), [1, 1, 1, 0]]"
            ]
          },
          "metadata": {}
        },
        {
          "output_type": "stream",
          "name": "stdout",
          "text": [
            "[[0. 0. 1. 0. 0. 0.]\n",
            " [0. 0. 0. 0. 0. 1.]\n",
            " [0. 1. 0. 0. 0. 0.]\n",
            " [0. 0. 0. 0. 1. 0.]\n",
            " [1. 0. 0. 0. 0. 0.]\n",
            " [0. 0. 0. 1. 0. 0.]]\n"
          ]
        }
      ]
    },
    {
      "cell_type": "markdown",
      "source": [
        "##Permutation"
      ],
      "metadata": {
        "id": "62dMCvkN7udc"
      }
    },
    {
      "cell_type": "code",
      "source": [
        "board_size = 6\n",
        "simulation_number = 5\n",
        "max_iteration = 20\n",
        "\n",
        "board_n_queens = n_queens(board_size,random_condition=False)\n",
        "RMS_results = Metaheuristics(simulation_number,board_n_queens.random_permutation,max_iteration,board_n_queens,True).RMS()\n",
        "display(RMS_results)\n",
        "board_n_queens.print_board()"
      ],
      "metadata": {
        "colab": {
          "base_uri": "https://localhost:8080/",
          "height": 173
        },
        "id": "WdFrdBXq7ulF",
        "outputId": "826a2726-2d23-4adb-bacf-ec0d0fab3994"
      },
      "execution_count": 72,
      "outputs": [
        {
          "output_type": "stream",
          "name": "stdout",
          "text": [
            "Inicializando simulação!!!!!\n",
            "\n"
          ]
        },
        {
          "output_type": "display_data",
          "data": {
            "text/plain": [
              "[0, 1, array([4, 2, 0, 5, 3, 1]), [1, 0]]"
            ]
          },
          "metadata": {}
        },
        {
          "output_type": "stream",
          "name": "stdout",
          "text": [
            "[[0. 0. 1. 0. 0. 0.]\n",
            " [0. 0. 0. 0. 0. 1.]\n",
            " [0. 1. 0. 0. 0. 0.]\n",
            " [0. 0. 0. 0. 1. 0.]\n",
            " [1. 0. 0. 0. 0. 0.]\n",
            " [0. 0. 0. 1. 0. 0.]]\n"
          ]
        }
      ]
    },
    {
      "cell_type": "markdown",
      "source": [
        "##Two Swap "
      ],
      "metadata": {
        "id": "XH7RhiIp7qps"
      }
    },
    {
      "cell_type": "code",
      "source": [
        "board_size = 6\n",
        "simulation_number = 5\n",
        "max_iteration = 20\n",
        "\n",
        "board_n_queens = n_queens(board_size,random_condition=False)\n",
        "RMS_results = Metaheuristics(simulation_number,board_n_queens.swap_2,max_iteration,board_n_queens,False).RMS()\n",
        "display(RMS_results)\n",
        "board_n_queens.print_board()"
      ],
      "metadata": {
        "colab": {
          "base_uri": "https://localhost:8080/",
          "height": 173
        },
        "id": "r9A0wSVZ7or9",
        "outputId": "8850f933-669c-4519-de9a-9a22baa27262"
      },
      "execution_count": 71,
      "outputs": [
        {
          "output_type": "stream",
          "name": "stdout",
          "text": [
            "Inicializando simulação!!!!!\n",
            "\n"
          ]
        },
        {
          "output_type": "display_data",
          "data": {
            "text/plain": [
              "[1, 5, [4, 3, 0, 2, 5, 1], [1, 1, 2, 1, 1]]"
            ]
          },
          "metadata": {}
        },
        {
          "output_type": "stream",
          "name": "stdout",
          "text": [
            "[[0. 0. 1. 0. 0. 0.]\n",
            " [0. 0. 0. 0. 0. 1.]\n",
            " [0. 0. 0. 1. 0. 0.]\n",
            " [0. 1. 0. 0. 0. 0.]\n",
            " [1. 0. 0. 0. 0. 0.]\n",
            " [0. 0. 0. 0. 1. 0.]]\n"
          ]
        }
      ]
    }
  ]
}